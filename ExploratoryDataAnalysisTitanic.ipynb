{
 "cells": [
  {
   "cell_type": "code",
   "execution_count": 1,
   "id": "bdee22ac",
   "metadata": {},
   "outputs": [],
   "source": [
    "import numpy as np\n",
    "import pandas as pd\n",
    "import matplotlib.pyplot as plt\n",
    "import seaborn as sb\n"
   ]
  },
  {
   "cell_type": "code",
   "execution_count": 2,
   "id": "ce0261eb",
   "metadata": {},
   "outputs": [],
   "source": [
    "data = pd.read_csv(\"train.csv\")"
   ]
  },
  {
   "cell_type": "markdown",
   "id": "78215abb",
   "metadata": {},
   "source": [
    "##  Information about the last six passengers."
   ]
  },
  {
   "cell_type": "code",
   "execution_count": 3,
   "id": "8dc77ae0",
   "metadata": {
    "scrolled": false
   },
   "outputs": [
    {
     "data": {
      "text/html": [
       "<div>\n",
       "<style scoped>\n",
       "    .dataframe tbody tr th:only-of-type {\n",
       "        vertical-align: middle;\n",
       "    }\n",
       "\n",
       "    .dataframe tbody tr th {\n",
       "        vertical-align: top;\n",
       "    }\n",
       "\n",
       "    .dataframe thead th {\n",
       "        text-align: right;\n",
       "    }\n",
       "</style>\n",
       "<table border=\"1\" class=\"dataframe\">\n",
       "  <thead>\n",
       "    <tr style=\"text-align: right;\">\n",
       "      <th></th>\n",
       "      <th>PassengerId</th>\n",
       "      <th>Survived</th>\n",
       "      <th>Pclass</th>\n",
       "      <th>Name</th>\n",
       "      <th>Sex</th>\n",
       "      <th>Age</th>\n",
       "      <th>SibSp</th>\n",
       "      <th>Parch</th>\n",
       "      <th>Ticket</th>\n",
       "      <th>Fare</th>\n",
       "      <th>Cabin</th>\n",
       "      <th>Embarked</th>\n",
       "    </tr>\n",
       "  </thead>\n",
       "  <tbody>\n",
       "    <tr>\n",
       "      <th>885</th>\n",
       "      <td>886</td>\n",
       "      <td>0</td>\n",
       "      <td>3</td>\n",
       "      <td>Rice, Mrs. William (Margaret Norton)</td>\n",
       "      <td>female</td>\n",
       "      <td>39.0</td>\n",
       "      <td>0</td>\n",
       "      <td>5</td>\n",
       "      <td>382652</td>\n",
       "      <td>29.125</td>\n",
       "      <td>NaN</td>\n",
       "      <td>Q</td>\n",
       "    </tr>\n",
       "    <tr>\n",
       "      <th>886</th>\n",
       "      <td>887</td>\n",
       "      <td>0</td>\n",
       "      <td>2</td>\n",
       "      <td>Montvila, Rev. Juozas</td>\n",
       "      <td>male</td>\n",
       "      <td>27.0</td>\n",
       "      <td>0</td>\n",
       "      <td>0</td>\n",
       "      <td>211536</td>\n",
       "      <td>13.000</td>\n",
       "      <td>NaN</td>\n",
       "      <td>S</td>\n",
       "    </tr>\n",
       "    <tr>\n",
       "      <th>887</th>\n",
       "      <td>888</td>\n",
       "      <td>1</td>\n",
       "      <td>1</td>\n",
       "      <td>Graham, Miss. Margaret Edith</td>\n",
       "      <td>female</td>\n",
       "      <td>19.0</td>\n",
       "      <td>0</td>\n",
       "      <td>0</td>\n",
       "      <td>112053</td>\n",
       "      <td>30.000</td>\n",
       "      <td>B42</td>\n",
       "      <td>S</td>\n",
       "    </tr>\n",
       "    <tr>\n",
       "      <th>888</th>\n",
       "      <td>889</td>\n",
       "      <td>0</td>\n",
       "      <td>3</td>\n",
       "      <td>Johnston, Miss. Catherine Helen \"Carrie\"</td>\n",
       "      <td>female</td>\n",
       "      <td>NaN</td>\n",
       "      <td>1</td>\n",
       "      <td>2</td>\n",
       "      <td>W./C. 6607</td>\n",
       "      <td>23.450</td>\n",
       "      <td>NaN</td>\n",
       "      <td>S</td>\n",
       "    </tr>\n",
       "    <tr>\n",
       "      <th>889</th>\n",
       "      <td>890</td>\n",
       "      <td>1</td>\n",
       "      <td>1</td>\n",
       "      <td>Behr, Mr. Karl Howell</td>\n",
       "      <td>male</td>\n",
       "      <td>26.0</td>\n",
       "      <td>0</td>\n",
       "      <td>0</td>\n",
       "      <td>111369</td>\n",
       "      <td>30.000</td>\n",
       "      <td>C148</td>\n",
       "      <td>C</td>\n",
       "    </tr>\n",
       "    <tr>\n",
       "      <th>890</th>\n",
       "      <td>891</td>\n",
       "      <td>0</td>\n",
       "      <td>3</td>\n",
       "      <td>Dooley, Mr. Patrick</td>\n",
       "      <td>male</td>\n",
       "      <td>32.0</td>\n",
       "      <td>0</td>\n",
       "      <td>0</td>\n",
       "      <td>370376</td>\n",
       "      <td>7.750</td>\n",
       "      <td>NaN</td>\n",
       "      <td>Q</td>\n",
       "    </tr>\n",
       "  </tbody>\n",
       "</table>\n",
       "</div>"
      ],
      "text/plain": [
       "     PassengerId  Survived  Pclass                                      Name  \\\n",
       "885          886         0       3      Rice, Mrs. William (Margaret Norton)   \n",
       "886          887         0       2                     Montvila, Rev. Juozas   \n",
       "887          888         1       1              Graham, Miss. Margaret Edith   \n",
       "888          889         0       3  Johnston, Miss. Catherine Helen \"Carrie\"   \n",
       "889          890         1       1                     Behr, Mr. Karl Howell   \n",
       "890          891         0       3                       Dooley, Mr. Patrick   \n",
       "\n",
       "        Sex   Age  SibSp  Parch      Ticket    Fare Cabin Embarked  \n",
       "885  female  39.0      0      5      382652  29.125   NaN        Q  \n",
       "886    male  27.0      0      0      211536  13.000   NaN        S  \n",
       "887  female  19.0      0      0      112053  30.000   B42        S  \n",
       "888  female   NaN      1      2  W./C. 6607  23.450   NaN        S  \n",
       "889    male  26.0      0      0      111369  30.000  C148        C  \n",
       "890    male  32.0      0      0      370376   7.750   NaN        Q  "
      ]
     },
     "execution_count": 3,
     "metadata": {},
     "output_type": "execute_result"
    }
   ],
   "source": [
    "data[-6:]"
   ]
  },
  {
   "cell_type": "markdown",
   "id": "1d5b499b",
   "metadata": {},
   "source": [
    "## attributes"
   ]
  },
  {
   "cell_type": "code",
   "execution_count": 4,
   "id": "4a5d582a",
   "metadata": {
    "scrolled": true
   },
   "outputs": [
    {
     "name": "stdout",
     "output_type": "stream",
     "text": [
      "PassengerId\n",
      "Survived\n",
      "Pclass\n",
      "Name\n",
      "Sex\n",
      "Age\n",
      "SibSp\n",
      "Parch\n",
      "Ticket\n",
      "Fare\n",
      "Cabin\n",
      "Embarked\n"
     ]
    }
   ],
   "source": [
    "for i in data.columns.values:\n",
    "    print(i) "
   ]
  },
  {
   "cell_type": "code",
   "execution_count": 5,
   "id": "24402310",
   "metadata": {},
   "outputs": [
    {
     "name": "stdout",
     "output_type": "stream",
     "text": [
      "The size of the dataset (number of rows times number of columns) is  10692 \n",
      "The dataset is 2 dimensional.\n"
     ]
    }
   ],
   "source": [
    "print('The size of the dataset (number of rows times number of columns) is  {} '.format(data.size))\n",
    "print('The dataset is {} dimensional.'.format(data.ndim))\n"
   ]
  },
  {
   "cell_type": "markdown",
   "id": "d9feaacd",
   "metadata": {},
   "source": [
    "## I checked missing values there are in the dataset for each feature column."
   ]
  },
  {
   "cell_type": "code",
   "execution_count": 6,
   "id": "c6fda7fd",
   "metadata": {},
   "outputs": [
    {
     "data": {
      "text/plain": [
       "PassengerId      0\n",
       "Survived         0\n",
       "Pclass           0\n",
       "Name             0\n",
       "Sex              0\n",
       "Age            177\n",
       "SibSp            0\n",
       "Parch            0\n",
       "Ticket           0\n",
       "Fare             0\n",
       "Cabin          687\n",
       "Embarked         2\n",
       "dtype: int64"
      ]
     },
     "execution_count": 6,
     "metadata": {},
     "output_type": "execute_result"
    }
   ],
   "source": [
    "data.isna().sum()"
   ]
  },
  {
   "cell_type": "markdown",
   "id": "6a59d008",
   "metadata": {},
   "source": [
    "## I deleted the instances that have NaN value for specific attributes"
   ]
  },
  {
   "cell_type": "code",
   "execution_count": 7,
   "id": "572d2968",
   "metadata": {
    "scrolled": false
   },
   "outputs": [
    {
     "data": {
      "text/html": [
       "<div>\n",
       "<style scoped>\n",
       "    .dataframe tbody tr th:only-of-type {\n",
       "        vertical-align: middle;\n",
       "    }\n",
       "\n",
       "    .dataframe tbody tr th {\n",
       "        vertical-align: top;\n",
       "    }\n",
       "\n",
       "    .dataframe thead th {\n",
       "        text-align: right;\n",
       "    }\n",
       "</style>\n",
       "<table border=\"1\" class=\"dataframe\">\n",
       "  <thead>\n",
       "    <tr style=\"text-align: right;\">\n",
       "      <th></th>\n",
       "      <th>PassengerId</th>\n",
       "      <th>Survived</th>\n",
       "      <th>Pclass</th>\n",
       "      <th>Name</th>\n",
       "      <th>Sex</th>\n",
       "      <th>SibSp</th>\n",
       "      <th>Parch</th>\n",
       "      <th>Ticket</th>\n",
       "      <th>Fare</th>\n",
       "    </tr>\n",
       "  </thead>\n",
       "  <tbody>\n",
       "    <tr>\n",
       "      <th>0</th>\n",
       "      <td>1</td>\n",
       "      <td>0</td>\n",
       "      <td>3</td>\n",
       "      <td>Braund, Mr. Owen Harris</td>\n",
       "      <td>male</td>\n",
       "      <td>1</td>\n",
       "      <td>0</td>\n",
       "      <td>A/5 21171</td>\n",
       "      <td>7.2500</td>\n",
       "    </tr>\n",
       "    <tr>\n",
       "      <th>1</th>\n",
       "      <td>2</td>\n",
       "      <td>1</td>\n",
       "      <td>1</td>\n",
       "      <td>Cumings, Mrs. John Bradley (Florence Briggs Th...</td>\n",
       "      <td>female</td>\n",
       "      <td>1</td>\n",
       "      <td>0</td>\n",
       "      <td>PC 17599</td>\n",
       "      <td>71.2833</td>\n",
       "    </tr>\n",
       "    <tr>\n",
       "      <th>2</th>\n",
       "      <td>3</td>\n",
       "      <td>1</td>\n",
       "      <td>3</td>\n",
       "      <td>Heikkinen, Miss. Laina</td>\n",
       "      <td>female</td>\n",
       "      <td>0</td>\n",
       "      <td>0</td>\n",
       "      <td>STON/O2. 3101282</td>\n",
       "      <td>7.9250</td>\n",
       "    </tr>\n",
       "    <tr>\n",
       "      <th>3</th>\n",
       "      <td>4</td>\n",
       "      <td>1</td>\n",
       "      <td>1</td>\n",
       "      <td>Futrelle, Mrs. Jacques Heath (Lily May Peel)</td>\n",
       "      <td>female</td>\n",
       "      <td>1</td>\n",
       "      <td>0</td>\n",
       "      <td>113803</td>\n",
       "      <td>53.1000</td>\n",
       "    </tr>\n",
       "    <tr>\n",
       "      <th>4</th>\n",
       "      <td>5</td>\n",
       "      <td>0</td>\n",
       "      <td>3</td>\n",
       "      <td>Allen, Mr. William Henry</td>\n",
       "      <td>male</td>\n",
       "      <td>0</td>\n",
       "      <td>0</td>\n",
       "      <td>373450</td>\n",
       "      <td>8.0500</td>\n",
       "    </tr>\n",
       "    <tr>\n",
       "      <th>...</th>\n",
       "      <td>...</td>\n",
       "      <td>...</td>\n",
       "      <td>...</td>\n",
       "      <td>...</td>\n",
       "      <td>...</td>\n",
       "      <td>...</td>\n",
       "      <td>...</td>\n",
       "      <td>...</td>\n",
       "      <td>...</td>\n",
       "    </tr>\n",
       "    <tr>\n",
       "      <th>886</th>\n",
       "      <td>887</td>\n",
       "      <td>0</td>\n",
       "      <td>2</td>\n",
       "      <td>Montvila, Rev. Juozas</td>\n",
       "      <td>male</td>\n",
       "      <td>0</td>\n",
       "      <td>0</td>\n",
       "      <td>211536</td>\n",
       "      <td>13.0000</td>\n",
       "    </tr>\n",
       "    <tr>\n",
       "      <th>887</th>\n",
       "      <td>888</td>\n",
       "      <td>1</td>\n",
       "      <td>1</td>\n",
       "      <td>Graham, Miss. Margaret Edith</td>\n",
       "      <td>female</td>\n",
       "      <td>0</td>\n",
       "      <td>0</td>\n",
       "      <td>112053</td>\n",
       "      <td>30.0000</td>\n",
       "    </tr>\n",
       "    <tr>\n",
       "      <th>888</th>\n",
       "      <td>889</td>\n",
       "      <td>0</td>\n",
       "      <td>3</td>\n",
       "      <td>Johnston, Miss. Catherine Helen \"Carrie\"</td>\n",
       "      <td>female</td>\n",
       "      <td>1</td>\n",
       "      <td>2</td>\n",
       "      <td>W./C. 6607</td>\n",
       "      <td>23.4500</td>\n",
       "    </tr>\n",
       "    <tr>\n",
       "      <th>889</th>\n",
       "      <td>890</td>\n",
       "      <td>1</td>\n",
       "      <td>1</td>\n",
       "      <td>Behr, Mr. Karl Howell</td>\n",
       "      <td>male</td>\n",
       "      <td>0</td>\n",
       "      <td>0</td>\n",
       "      <td>111369</td>\n",
       "      <td>30.0000</td>\n",
       "    </tr>\n",
       "    <tr>\n",
       "      <th>890</th>\n",
       "      <td>891</td>\n",
       "      <td>0</td>\n",
       "      <td>3</td>\n",
       "      <td>Dooley, Mr. Patrick</td>\n",
       "      <td>male</td>\n",
       "      <td>0</td>\n",
       "      <td>0</td>\n",
       "      <td>370376</td>\n",
       "      <td>7.7500</td>\n",
       "    </tr>\n",
       "  </tbody>\n",
       "</table>\n",
       "<p>891 rows × 9 columns</p>\n",
       "</div>"
      ],
      "text/plain": [
       "     PassengerId  Survived  Pclass  \\\n",
       "0              1         0       3   \n",
       "1              2         1       1   \n",
       "2              3         1       3   \n",
       "3              4         1       1   \n",
       "4              5         0       3   \n",
       "..           ...       ...     ...   \n",
       "886          887         0       2   \n",
       "887          888         1       1   \n",
       "888          889         0       3   \n",
       "889          890         1       1   \n",
       "890          891         0       3   \n",
       "\n",
       "                                                  Name     Sex  SibSp  Parch  \\\n",
       "0                              Braund, Mr. Owen Harris    male      1      0   \n",
       "1    Cumings, Mrs. John Bradley (Florence Briggs Th...  female      1      0   \n",
       "2                               Heikkinen, Miss. Laina  female      0      0   \n",
       "3         Futrelle, Mrs. Jacques Heath (Lily May Peel)  female      1      0   \n",
       "4                             Allen, Mr. William Henry    male      0      0   \n",
       "..                                                 ...     ...    ...    ...   \n",
       "886                              Montvila, Rev. Juozas    male      0      0   \n",
       "887                       Graham, Miss. Margaret Edith  female      0      0   \n",
       "888           Johnston, Miss. Catherine Helen \"Carrie\"  female      1      2   \n",
       "889                              Behr, Mr. Karl Howell    male      0      0   \n",
       "890                                Dooley, Mr. Patrick    male      0      0   \n",
       "\n",
       "               Ticket     Fare  \n",
       "0           A/5 21171   7.2500  \n",
       "1            PC 17599  71.2833  \n",
       "2    STON/O2. 3101282   7.9250  \n",
       "3              113803  53.1000  \n",
       "4              373450   8.0500  \n",
       "..                ...      ...  \n",
       "886            211536  13.0000  \n",
       "887            112053  30.0000  \n",
       "888        W./C. 6607  23.4500  \n",
       "889            111369  30.0000  \n",
       "890            370376   7.7500  \n",
       "\n",
       "[891 rows x 9 columns]"
      ]
     },
     "execution_count": 7,
     "metadata": {},
     "output_type": "execute_result"
    }
   ],
   "source": [
    "newData = data.dropna(axis=1)\n",
    "newData"
   ]
  },
  {
   "cell_type": "markdown",
   "id": "1f4e9239",
   "metadata": {},
   "source": [
    "## 3rd class has more passengers"
   ]
  },
  {
   "cell_type": "code",
   "execution_count": 8,
   "id": "ba23c2a6",
   "metadata": {
    "scrolled": true
   },
   "outputs": [
    {
     "data": {
      "image/png": "[encoded data removed]",
      "text/plain": [
       "<Figure size 432x288 with 1 Axes>"
      ]
     },
     "metadata": {},
     "output_type": "display_data"
    }
   ],
   "source": [
    "firstClass=newData[newData[\"Pclass\"]==1][\"Pclass\"].count()\n",
    "secondClass=newData[newData[\"Pclass\"]==2][\"Pclass\"].count()\n",
    "thirdClass=newData[newData[\"Pclass\"]==3][\"Pclass\"].count()\n",
    "\n",
    "colors = (\"pink\",\"gold\",\"lightblue\")\n",
    "values = np.array([firstClass,secondClass,thirdClass])\n",
    "myLabels = [\"1st\",\"2nd\",\"3rd\"]\n",
    "\n",
    "plt.pie(values, labels = myLabels, autopct='%1.0f%%',colors = colors)\n",
    "\n",
    "plt.show()\n",
    "        "
   ]
  },
  {
   "cell_type": "markdown",
   "id": "be9354dd",
   "metadata": {},
   "source": [
    "## The number of passengers who survived and the number of passengers who didn't survive"
   ]
  },
  {
   "cell_type": "code",
   "execution_count": 9,
   "id": "7cdfcff5",
   "metadata": {},
   "outputs": [
    {
     "name": "stdout",
     "output_type": "stream",
     "text": [
      "Survived : 342 \n",
      "NotSurvived : 549\n"
     ]
    }
   ],
   "source": [
    "survived = newData[newData[\"Survived\"]==1][\"Survived\"].count() ## number of survived\n",
    "didNotSurvived = newData[newData[\"Survived\"]==0][\"Survived\"].count() ## number of didn't\n",
    "print('Survived : {} \\nNotSurvived : {}'.format(survived,didNotSurvived))"
   ]
  },
  {
   "cell_type": "code",
   "execution_count": 10,
   "id": "c2090ec9",
   "metadata": {},
   "outputs": [
    {
     "data": {
      "text/plain": [
       "<BarContainer object of 2 artists>"
      ]
     },
     "execution_count": 10,
     "metadata": {},
     "output_type": "execute_result"
    },
    {
     "data": {
      "image/png": "[encoded data removed]",
      "text/plain": [
       "<Figure size 432x288 with 1 Axes>"
      ]
     },
     "metadata": {
      "needs_background": "light"
     },
     "output_type": "display_data"
    }
   ],
   "source": [
    "fig = plt.figure()\n",
    "ax = fig.add_axes([0,0,0.7,1])\n",
    "state = ['survived', 'did not survived']\n",
    "count = [survived,didNotSurvived]\n",
    "ax.bar(state,count,color='aqua')\n",
    "\n",
    "\n"
   ]
  },
  {
   "cell_type": "markdown",
   "id": "dfe4b3ec",
   "metadata": {},
   "source": [
    "## The percentage of passengers for each ticket class who survived and who didn't survive"
   ]
  },
  {
   "cell_type": "code",
   "execution_count": 11,
   "id": "2657d296",
   "metadata": {},
   "outputs": [],
   "source": [
    "firstClass= newData[newData[\"Pclass\"]==1 ]\n",
    "survive1=firstClass[firstClass[\"Survived\"]==1][\"Survived\"].count()\n",
    "notSurvive1=firstClass[firstClass[\"Survived\"]==0][\"Survived\"].count()"
   ]
  },
  {
   "cell_type": "code",
   "execution_count": 12,
   "id": "f14d6091",
   "metadata": {},
   "outputs": [],
   "source": [
    "secondClass= newData[newData[\"Pclass\"]==2 ]\n",
    "survive2=secondClass[secondClass[\"Survived\"]==1][\"Survived\"].count()\n",
    "notSurvive2=secondClass[secondClass[\"Survived\"]==0][\"Survived\"].count()"
   ]
  },
  {
   "cell_type": "code",
   "execution_count": 13,
   "id": "3887888e",
   "metadata": {},
   "outputs": [],
   "source": [
    "thirdClass= newData[newData[\"Pclass\"]==3 ]\n",
    "survive3=thirdClass[thirdClass[\"Survived\"]==1][\"Survived\"].count()\n",
    "notSurvive3=thirdClass[thirdClass[\"Survived\"]==0][\"Survived\"].count()"
   ]
  },
  {
   "cell_type": "code",
   "execution_count": 14,
   "id": "c87b8ebe",
   "metadata": {},
   "outputs": [
    {
     "data": {
      "image/png": "[encoded data removed]",
      "text/plain": [
       "<Figure size 432x288 with 1 Axes>"
      ]
     },
     "metadata": {},
     "output_type": "display_data"
    },
    {
     "data": {
      "image/png": "[encoded data removed]",
      "text/plain": [
       "<Figure size 432x288 with 1 Axes>"
      ]
     },
     "metadata": {},
     "output_type": "display_data"
    },
    {
     "data": {
      "image/png": "[encoded data removed]",
      "text/plain": [
       "<Figure size 432x288 with 1 Axes>"
      ]
     },
     "metadata": {},
     "output_type": "display_data"
    }
   ],
   "source": [
    "colors = (  \"red\", \"grey\")\n",
    "\n",
    "values = np.array([survive1,notSurvive1])\n",
    "myLabels = [\"survive\",\"didn'tSurvive\"]\n",
    "plt.pie(values, labels = myLabels, autopct='%1.0f%%', colors = colors)\n",
    "plt.title(\"1st Class\")\n",
    "plt.show() \n",
    "\n",
    "values = np.array([survive2,notSurvive2])\n",
    "myLabels = [\"survive\",\"didn'tSurvive\"]\n",
    "plt.pie(values, labels = myLabels, autopct='%1.0f%%', colors = colors)\n",
    "plt.title(\"2st Class\")\n",
    "plt.show() \n",
    "\n",
    "values = np.array([survive3,notSurvive3])\n",
    "myLabels = [\"survive\",\"didn'tSurvive\"]\n",
    "plt.pie(values, labels = myLabels, autopct='%1.0f%%', colors = colors)\n",
    "plt.title(\"3st Class\")\n",
    "plt.show()"
   ]
  },
  {
   "cell_type": "markdown",
   "id": "840c8875",
   "metadata": {},
   "source": [
    "## The most surviving  are passengers of the first class."
   ]
  },
  {
   "cell_type": "code",
   "execution_count": 15,
   "id": "deec0ad9",
   "metadata": {},
   "outputs": [
    {
     "data": {
      "text/plain": [
       "<BarContainer object of 3 artists>"
      ]
     },
     "execution_count": 15,
     "metadata": {},
     "output_type": "execute_result"
    },
    {
     "data": {
      "image/png": "[encoded data removed]",
      "text/plain": [
       "<Figure size 432x288 with 1 Axes>"
      ]
     },
     "metadata": {
      "needs_background": "light"
     },
     "output_type": "display_data"
    }
   ],
   "source": [
    "fig = plt.figure()\n",
    "ax = fig.add_axes([0,0,0.7,1])\n",
    "state = ['1st Class', '2nd Class', '3rd Class']\n",
    "count = [survive1/firstClass[\"Pclass\"].count(),survive2/secondClass[\"Pclass\"].count(),survive3/thirdClass[\"Pclass\"].count()]\n",
    "ax.bar(state,count,color = 'r')\n"
   ]
  },
  {
   "cell_type": "markdown",
   "id": "650cfeaf",
   "metadata": {},
   "source": [
    "## A cross table by gender\n",
    "### most of the females survived, but most of the males didn't."
   ]
  },
  {
   "cell_type": "code",
   "execution_count": 16,
   "id": "53817140",
   "metadata": {},
   "outputs": [],
   "source": [
    "male = newData[newData[\"Sex\"]==\"male\"]\n",
    "surviveOfMale=male[male[\"Survived\"]==1][\"Survived\"].count()\n",
    "notSurviveOfMale=male[male[\"Survived\"]==0][\"Survived\"].count()\n",
    "sumOfMale=surviveOfMale+notSurviveOfMale\n",
    "\n"
   ]
  },
  {
   "cell_type": "code",
   "execution_count": 17,
   "id": "218d2e56",
   "metadata": {},
   "outputs": [],
   "source": [
    "female = newData[newData[\"Sex\"]==\"female\"]\n",
    "surviveOfFemale=female[female[\"Survived\"]==1][\"Survived\"].count()\n",
    "notSurviveOfFemale=female[female[\"Survived\"]==0][\"Survived\"].count()\n",
    "sumOfFemale=surviveOfFemale+notSurviveOfFemale"
   ]
  },
  {
   "cell_type": "code",
   "execution_count": 18,
   "id": "459908a0",
   "metadata": {},
   "outputs": [],
   "source": [
    "sumOfNotSurvive=notSurviveOfFemale + notSurviveOfMale\n",
    "sumOfSurvive=surviveOfFemale + surviveOfMale\n",
    "\n",
    "sumOfAll = sumOfSurvive +sumOfNotSurvive"
   ]
  },
  {
   "cell_type": "code",
   "execution_count": 19,
   "id": "d89e5192",
   "metadata": {
    "scrolled": true
   },
   "outputs": [
    {
     "data": {
      "text/html": [
       "<div>\n",
       "<style scoped>\n",
       "    .dataframe tbody tr th:only-of-type {\n",
       "        vertical-align: middle;\n",
       "    }\n",
       "\n",
       "    .dataframe tbody tr th {\n",
       "        vertical-align: top;\n",
       "    }\n",
       "\n",
       "    .dataframe thead th {\n",
       "        text-align: right;\n",
       "    }\n",
       "</style>\n",
       "<table border=\"1\" class=\"dataframe\">\n",
       "  <thead>\n",
       "    <tr style=\"text-align: right;\">\n",
       "      <th>Survived</th>\n",
       "      <th>0</th>\n",
       "      <th>1</th>\n",
       "      <th>All</th>\n",
       "    </tr>\n",
       "    <tr>\n",
       "      <th>Gender</th>\n",
       "      <th></th>\n",
       "      <th></th>\n",
       "      <th></th>\n",
       "    </tr>\n",
       "  </thead>\n",
       "  <tbody>\n",
       "    <tr>\n",
       "      <th>male</th>\n",
       "      <td>468</td>\n",
       "      <td>109</td>\n",
       "      <td>577</td>\n",
       "    </tr>\n",
       "    <tr>\n",
       "      <th>female</th>\n",
       "      <td>81</td>\n",
       "      <td>233</td>\n",
       "      <td>314</td>\n",
       "    </tr>\n",
       "    <tr>\n",
       "      <th>All</th>\n",
       "      <td>549</td>\n",
       "      <td>342</td>\n",
       "      <td>891</td>\n",
       "    </tr>\n",
       "  </tbody>\n",
       "</table>\n",
       "</div>"
      ],
      "text/plain": [
       "Survived    0    1  All\n",
       "Gender                 \n",
       "male      468  109  577\n",
       "female     81  233  314\n",
       "All       549  342  891"
      ]
     },
     "execution_count": 19,
     "metadata": {},
     "output_type": "execute_result"
    }
   ],
   "source": [
    "dataForQ9=np.array([[notSurviveOfMale,surviveOfMale,sumOfMale],[notSurviveOfFemale,surviveOfFemale,\n",
    "                                                                                    sumOfFemale],\n",
    "                   [sumOfNotSurvive,sumOfSurvive,sumOfAll]])\n",
    "df=pd.DataFrame(dataForQ9,index=[\"male\",\"female\",\"All\"],columns=[\"0\",\"1\",\"All\"])\n",
    "df.index.names=[\"Gender\"]\n",
    "df.columns.names = [\"Survived\"]\n",
    "\n",
    "df"
   ]
  },
  {
   "cell_type": "markdown",
   "id": "babc4e54",
   "metadata": {},
   "source": [
    "## Passenger status according to the cities of Cherbourg, Queenstown, Southampton"
   ]
  },
  {
   "cell_type": "code",
   "execution_count": 20,
   "id": "c83e5627",
   "metadata": {},
   "outputs": [],
   "source": [
    "cherb= data[data[\"Embarked\"]==\"C\"]\n",
    "surviveOfCherb = cherb[cherb[\"Survived\"]==1][\"Survived\"].count() \n",
    "notSurviveOfCherb = cherb[cherb[\"Survived\"]==0][\"Survived\"].count()\n",
    "\n",
    "south= data[data[\"Embarked\"]==\"S\"]\n",
    "surviveOfSouth = south[south[\"Survived\"]==1][\"Survived\"].count() \n",
    "notSurviveOfSouth = south[south[\"Survived\"]==0][\"Survived\"].count() \n",
    "\n",
    "queen= data[data[\"Embarked\"]==\"Q\"]\n",
    "surviveOfQueen = queen[queen[\"Survived\"]==1][\"Survived\"].count() \n",
    "notSurviveOfQueen = queen[queen[\"Survived\"]==0][\"Survived\"].count() \n",
    "\n"
   ]
  },
  {
   "cell_type": "code",
   "execution_count": 21,
   "id": "0cae6050",
   "metadata": {},
   "outputs": [
    {
     "data": {
      "text/plain": [
       "<BarContainer object of 6 artists>"
      ]
     },
     "execution_count": 21,
     "metadata": {},
     "output_type": "execute_result"
    },
    {
     "data": {
      "image/png": "[encoded data removed]",
      "text/plain": [
       "<Figure size 432x288 with 1 Axes>"
      ]
     },
     "metadata": {
      "needs_background": "light"
     },
     "output_type": "display_data"
    }
   ],
   "source": [
    "fig = plt.figure()\n",
    "ax = fig.add_axes([1,1,2,2])\n",
    "state = ['surviveOfCherb', 'notSurviveOfCherb', 'surviveOfSouth','notSurviveOfSouth','surviveOfQueen',\n",
    "                                                                               'notSurviveOfQueen']\n",
    "count = [surviveOfCherb,notSurviveOfCherb,surviveOfSouth,notSurviveOfSouth,surviveOfQueen,notSurviveOfQueen]\n",
    "ax.bar(state,count,color='lavender')"
   ]
  },
  {
   "cell_type": "markdown",
   "id": "38fd3376",
   "metadata": {},
   "source": [
    "## The most commonly used title is Mr."
   ]
  },
  {
   "cell_type": "code",
   "execution_count": 22,
   "id": "f6aa8573",
   "metadata": {
    "scrolled": true
   },
   "outputs": [
    {
     "name": "stdout",
     "output_type": "stream",
     "text": [
      "Miss : 182\n",
      "Mr : 647\n",
      "Mrs : 129\n"
     ]
    }
   ],
   "source": [
    "missTitle = newData[newData['Name'].str.contains('Miss.')][\"Name\"].count()\n",
    "mrTitle = newData[newData['Name'].str.contains('Mr.')][\"Name\"].count()\n",
    "mrsTitle = newData[newData['Name'].str.contains('Mrs.')][\"Name\"].count()\n",
    "\n",
    "print('Miss : {}\\nMr : {}\\nMrs : {}'.format(missTitle,mrTitle,mrsTitle))"
   ]
  },
  {
   "cell_type": "markdown",
   "id": "b1bc2d39",
   "metadata": {},
   "source": [
    "## The average age of the passengers is 29.7"
   ]
  },
  {
   "cell_type": "code",
   "execution_count": 23,
   "id": "9e2bbb2a",
   "metadata": {
    "scrolled": true
   },
   "outputs": [
    {
     "data": {
      "text/plain": [
       "29.69911764705882"
      ]
     },
     "execution_count": 23,
     "metadata": {},
     "output_type": "execute_result"
    }
   ],
   "source": [
    "df = pd.DataFrame(data)\n",
    "df[\"Age\"].mean()\n",
    "\n",
    "\n"
   ]
  },
  {
   "cell_type": "markdown",
   "id": "a50f2bf3",
   "metadata": {},
   "source": [
    "## Strip chart that plots age (y-axis), and survival (x-axis)."
   ]
  },
  {
   "cell_type": "code",
   "execution_count": 24,
   "id": "65b7814b",
   "metadata": {
    "scrolled": true
   },
   "outputs": [
    {
     "data": {
      "text/plain": [
       "<AxesSubplot:xlabel='Survived', ylabel='Age'>"
      ]
     },
     "execution_count": 24,
     "metadata": {},
     "output_type": "execute_result"
    },
    {
     "data": {
      "image/png": "[encoded data removed]",
      "text/plain": [
       "<Figure size 432x288 with 1 Axes>"
      ]
     },
     "metadata": {
      "needs_background": "light"
     },
     "output_type": "display_data"
    }
   ],
   "source": [
    "df = pd.DataFrame(data)\n",
    "sb.stripplot(y = df['Age'], x = df['Survived'])"
   ]
  },
  {
   "cell_type": "markdown",
   "id": "19384cc9",
   "metadata": {},
   "source": [
    "### The age of the oldest person who survived is 80.0"
   ]
  },
  {
   "cell_type": "code",
   "execution_count": 25,
   "id": "139c7d1b",
   "metadata": {
    "scrolled": true
   },
   "outputs": [
    {
     "data": {
      "text/plain": [
       "80.0"
      ]
     },
     "execution_count": 25,
     "metadata": {},
     "output_type": "execute_result"
    }
   ],
   "source": [
    "df = pd.DataFrame(data)\n",
    "survived= data[data[\"Survived\"]==1 ]\n",
    "survived[\"Age\"].max()"
   ]
  },
  {
   "cell_type": "markdown",
   "id": "9a462138",
   "metadata": {},
   "source": [
    "## The percentage of people who survived according to the their age group."
   ]
  },
  {
   "cell_type": "code",
   "execution_count": 26,
   "id": "8f3864d6",
   "metadata": {},
   "outputs": [],
   "source": [
    "df = pd.DataFrame(data)\n",
    "survived= data[data[\"Survived\"]==1 ]\n",
    "sumOfSurvived = survived[\"Age\"].count()\n",
    "group1OfSurvived=(survived[survived[\"Age\"]<=18][\"Age\"]).count()\n",
    "group3OfSurvived=(survived[survived[\"Age\"]>=60][\"Age\"]).count()\n",
    "group2OfSurvived = sumOfSurvived - (group1OfSurvived + group3OfSurvived )\n",
    "\n",
    "group1 = data[data[\"Age\"]<=18][\"Age\"].count()\n",
    "group3 = data[data[\"Age\"]>=60][\"Age\"].count()\n",
    "group2 = data[\"Age\"].count() - (group1 + group3)\n",
    "colors = ( \"turquoise\",\"purple\")\n",
    "\n"
   ]
  },
  {
   "cell_type": "code",
   "execution_count": 27,
   "id": "1fffe1e2",
   "metadata": {},
   "outputs": [
    {
     "data": {
      "image/png": "[encoded data removed]",
      "text/plain": [
       "<Figure size 432x288 with 1 Axes>"
      ]
     },
     "metadata": {},
     "output_type": "display_data"
    },
    {
     "data": {
      "image/png": "[encoded data removed]",
      "text/plain": [
       "<Figure size 432x288 with 1 Axes>"
      ]
     },
     "metadata": {},
     "output_type": "display_data"
    },
    {
     "data": {
      "image/png": "[encoded data removed]",
      "text/plain": [
       "<Figure size 432x288 with 1 Axes>"
      ]
     },
     "metadata": {},
     "output_type": "display_data"
    }
   ],
   "source": [
    "values = np.array([group1OfSurvived,group1-group1OfSurvived])\n",
    "myLabels = [\"survive\",\"didn'tSurvive\"]\n",
    "plt.pie(values, labels = myLabels, autopct='%1.0f%%',colors=colors)\n",
    "plt.title(\"GROUP 1 ( Age <= 18)\")\n",
    "plt.show()\n",
    "\n",
    "values = np.array([group2OfSurvived,group2-group2OfSurvived])\n",
    "myLabels = [\"survive\",\"didn'tSurvive\"]\n",
    "plt.pie(values, labels = myLabels, autopct='%1.0f%%',colors=colors)\n",
    "plt.title(\"GROUP 2 ( 18 < Age < 60)\")\n",
    "plt.show()\n",
    "\n",
    "values = np.array([group3OfSurvived,group3-group3OfSurvived])\n",
    "myLabels = [\"survive\",\"didn'tSurvive\"]\n",
    "plt.pie(values, labels = myLabels, autopct='%1.0f%%',colors=colors)\n",
    "plt.title(\"GROUP 3 ( Age >= 60)\")\n",
    "plt.show()"
   ]
  },
  {
   "cell_type": "code",
   "execution_count": null,
   "id": "0822bb32",
   "metadata": {},
   "outputs": [],
   "source": []
  },
  {
   "cell_type": "code",
   "execution_count": null,
   "id": "0f910e6b",
   "metadata": {},
   "outputs": [],
   "source": []
  }
 ],
 "metadata": {
  "kernelspec": {
   "display_name": "Python 3",
   "language": "python",
   "name": "python3"
  },
  "language_info": {
   "codemirror_mode": {
    "name": "ipython",
    "version": 3
   },
   "file_extension": ".py",
   "mimetype": "text/x-python",
   "name": "python",
   "nbconvert_exporter": "python",
   "pygments_lexer": "ipython3",
   "version": "3.8.8"
  }
 },
 "nbformat": 4,
 "nbformat_minor": 5
}
